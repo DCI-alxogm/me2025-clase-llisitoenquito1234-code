{
  "nbformat": 4,
  "nbformat_minor": 0,
  "metadata": {
    "colab": {
      "provenance": [],
      "authorship_tag": "ABX9TyOBbpGHQZizAL4cLdug/u9I",
      "include_colab_link": true
    },
    "kernelspec": {
      "name": "python3",
      "display_name": "Python 3"
    },
    "language_info": {
      "name": "python"
    }
  },
  "cells": [
    {
      "cell_type": "markdown",
      "metadata": {
        "id": "view-in-github",
        "colab_type": "text"
      },
      "source": [
        "<a href=\"https://colab.research.google.com/github/DCI-alxogm/me2025-clase-llisitoenquito1234-code/blob/main/ssemana1./agosto_6_2025.ipynb\" target=\"_parent\"><img src=\"https://colab.research.google.com/assets/colab-badge.svg\" alt=\"Open In Colab\"/></a>"
      ]
    },
    {
      "cell_type": "code",
      "execution_count": null,
      "metadata": {
        "id": "zB5kwIb7ZQo6"
      },
      "outputs": [],
      "source": [
        "# primer cuaderno\n"
      ]
    },
    {
      "cell_type": "code",
      "source": [
        "print(\"prueba de cuadeno.\")"
      ],
      "metadata": {
        "colab": {
          "base_uri": "https://localhost:8080/"
        },
        "id": "3Vp14lHcd8EO",
        "outputId": "307fd032-ad2d-4c68-e079-e374c06d67c8"
      },
      "execution_count": null,
      "outputs": [
        {
          "output_type": "stream",
          "name": "stdout",
          "text": [
            "prueba de cuadeno.\n"
          ]
        }
      ]
    },
    {
      "cell_type": "code",
      "source": [],
      "metadata": {
        "id": "_Cpzbzbra1bb"
      },
      "execution_count": null,
      "outputs": []
    }
  ]
}